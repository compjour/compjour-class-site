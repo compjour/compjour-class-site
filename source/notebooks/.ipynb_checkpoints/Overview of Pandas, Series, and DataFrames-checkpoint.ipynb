{
 "cells": [
  {
   "cell_type": "markdown",
   "metadata": {},
   "source": [
    "## About Pandas\n",
    "\n",
    "From the [pandas homepage](http://pandas.pydata.org/):\n",
    "\n",
    "> __What problem does pandas solve?__\n",
    ">\n",
    "> Python has long been great for data munging and preparation, but less so for data analysis and modeling. pandas helps fill this gap, enabling you to carry out your entire data analysis workflow in Python without having to switch to a more domain specific language like R.\n",
    "\n",
    "_pandas_ is probably overkill for what we want to do, but it does make the process of handling and organizing data, and then turning into visualizations, less tedious. Its data structures are based off of structures fundamental and familiar to plain Python: __lists__ and __dictionaries__.\n",
    "\n",
    "Pandas was created by [Wes McKinney](http://blog.wesmckinney.com/), who also authored [Python for Data Analysis: Data Wrangling with Pandas, NumPy, and IPython](http://www.amazon.com/gp/product/1449319793/ref=as_li_tl?ie=UTF8&camp=1789&creative=9325&creativeASIN=1449319793&linkCode=as2&tag=quantpytho-20&linkId=T7GQREAOX3EJE6WS), which I recommend and also quote from in this guide.\n",
    "\n",
    "Here's a quick 10-minute tour of pandas from McKinney:\n",
    "\n",
    "<iframe src=\"https://player.vimeo.com/video/59324550\" width=\"500\" height=\"309\" frameborder=\"0\" webkitallowfullscreen mozallowfullscreen allowfullscreen></iframe>"
   ]
  },
  {
   "cell_type": "markdown",
   "metadata": {},
   "source": [
    "### More documentation and guides\n",
    "\n",
    "The official pandas homepage is [pandas.pydata.org](http://pandas.pydata.org). Its docs [live here](http://pandas.pydata.org/pandas-docs/stable/index.html).\n",
    "\n",
    "Sections most relevant to us:\n",
    "\n",
    "- [10 Minutes to Pandas](http://pandas.pydata.org/pandas-docs/stable/10min.html)\n",
    "- [Intro to Data Structures](http://pandas.pydata.org/pandas-docs/stable/dsintro.html)\n",
    "- [Essential Basic Functionality](http://pandas.pydata.org/pandas-docs/stable/basics.html)\n",
    "- [Indexing and Selecting Data](http://pandas.pydata.org/pandas-docs/stable/indexing.html)\n",
    "- [Reshaping and pivot tables](http://pandas.pydata.org/pandas-docs/stable/reshaping.html)\n",
    "- A [\"Cookbook\"](http://pandas.pydata.org/pandas-docs/stable/cookbook.html)\n",
    "\n",
    "\n",
    "Greg Reda has an excellent tutorial that covers roughly the same scope of concepts I'm cover here. Check them out for another perspective: \n",
    "\n",
    "- [Intro to Pandas data structures](http://www.gregreda.com/2013/10/26/intro-to-pandas-data-structures/)\n",
    "- [Working with DataFrames](http://www.gregreda.com/2013/10/26/working-with-pandas-dataframes/)"
   ]
  },
  {
   "cell_type": "markdown",
   "metadata": {},
   "source": [
    "### Importing the `pandas` package\n",
    "\n",
    "For the rest of this lesson, assume that __pandas__ has been imported into the environment like so:"
   ]
  },
  {
   "cell_type": "code",
   "execution_count": 2,
   "metadata": {
    "collapsed": true
   },
   "outputs": [],
   "source": [
    "import pandas as pd"
   ]
  },
  {
   "cell_type": "markdown",
   "metadata": {},
   "source": [
    "In virtually every tutorial, including this one, you'll see the convention of `pd` being used as _shorthand_ for `pandas`."
   ]
  },
  {
   "cell_type": "markdown",
   "metadata": {},
   "source": [
    "## The `pandas.Series` data structure\n",
    "\n",
    "Pandas docs: [pandas.Series](http://pandas.pydata.org/pandas-docs/dev/generated/pandas.Series.html)\n",
    "\n",
    "\n",
    "The `pandas.Series` structure is pretty similar to a _list_, in that it holds an ordered list of values:\n",
    "\n",
    "```py\n",
    "import pandas as pd\n",
    "myseries = pd.Series(['alpha', 1, 2, 3, 'zeta'])\n",
    "print(\"The first value is:\", myseries[0])\n",
    "# The first value is: alpha\n",
    "```\n",
    "\n",
    "\n",
    "However, you can also think of a `Series` object as a _dictionary_, in that its elements can also be indexed by _keys_. Via Wes McKinney's [Python for Data Analysis](http://shop.oreilly.com/product/0636920023784.do):\n",
    "\n",
    "> Another way to think about a Series is as a fixed-length, ordered dict, as it is a mapping of index values to data values. It can be substituted into many functions that expect a dict.\n"
   ]
  },
  {
   "cell_type": "markdown",
   "metadata": {},
   "source": [
    "### Constructing a `Series` object\n",
    "\n",
    "Since `Series` is so similar to a dictionary, we can construct a new `Series` object by passing in a dictionary to its constructor function:"
   ]
  },
  {
   "cell_type": "code",
   "execution_count": 16,
   "metadata": {
    "collapsed": false
   },
   "outputs": [
    {
     "name": "stdout",
     "output_type": "stream",
     "text": [
      "This is gamma: 42\n",
      "This is the 3rd element: 42\n"
     ]
    }
   ],
   "source": [
    "mydict = {'gamma': 42, 'beta': 30, 'delta' : 101}\n",
    "myseries = pd.Series(mydict)\n",
    "\n",
    "print(\"This is gamma:\", myseries['gamma'])\n",
    "print(\"This is the 3rd element:\", myseries[2])\n"
   ]
  },
  {
   "cell_type": "markdown",
   "metadata": {},
   "source": [
    "As indicated in the above example, when creating the `Series` from a dictionary, pandas will sort the keys by default. Unlike a typical dictionary, this ordering will be enforced, as it would be in a list."
   ]
  },
  {
   "cell_type": "markdown",
   "metadata": {},
   "source": [
    "#### Specifying the index\n",
    "\n",
    "The concept of an ordered __index__ is central to Python lists and for pandas Series as well. In lieu of constructing a Series using a dictionary, you can create a new Series by passing in a list of values and then specifying the __index__ argument. \n",
    "\n",
    "Note in the example below how the Series will _not_ sort the index alphabetically and will keep it in the same order as we've specified in the __index__ argument:"
   ]
  },
  {
   "cell_type": "code",
   "execution_count": 13,
   "metadata": {
    "collapsed": false
   },
   "outputs": [
    {
     "name": "stdout",
     "output_type": "stream",
     "text": [
      "This is gamma: 42\n",
      "This is the 3rd element: 10\n"
     ]
    }
   ],
   "source": [
    "mylist = [42, 30, 10]\n",
    "myseries = pd.Series(mylist, index = ['gamma', 'beta', 'delta'])\n",
    "print(\"This is gamma:\", myseries['gamma'])\n",
    "print(\"This is the 3rd element:\", myseries[2])"
   ]
  },
  {
   "cell_type": "markdown",
   "metadata": {},
   "source": [
    "### Indexing and slices\n",
    "\n",
    "As seen above, referring to the rows of a Series uses the same bracket `[]` notation as used for lists and dictionaries. However, there are a few more options in selecting _multiple_ values when working with Series.\n",
    "\n",
    "While using an individual index/key will return the single corresponding value, e.g. `index[0]` gets you `42`, the following examples of multiple indexes/keys will create new Series objects:\n"
   ]
  },
  {
   "cell_type": "code",
   "execution_count": 40,
   "metadata": {
    "collapsed": false
   },
   "outputs": [
    {
     "data": {
      "text/plain": [
       "gamma    42\n",
       "delta    10\n",
       "dtype: int64"
      ]
     },
     "execution_count": 40,
     "metadata": {},
     "output_type": "execute_result"
    }
   ],
   "source": [
    "myseries = pd.Series([42, 30, 10, 99], index = ['gamma', 'beta', 'delta', 'alpha'])\n",
    "\n",
    "myseries[[0, 2]]"
   ]
  },
  {
   "cell_type": "code",
   "execution_count": 41,
   "metadata": {
    "collapsed": false
   },
   "outputs": [
    {
     "data": {
      "text/plain": [
       "alpha    99\n",
       "beta     30\n",
       "dtype: int64"
      ]
     },
     "execution_count": 41,
     "metadata": {},
     "output_type": "execute_result"
    }
   ],
   "source": [
    "myseries[['alpha', 'beta']]"
   ]
  },
  {
   "cell_type": "markdown",
   "metadata": {},
   "source": [
    "__A note about the output above:__ The `pandas` data structures come with metadata; the `dtype: int64` refers to the fact that every value in the resulting Series objects from the above commands is an integer."
   ]
  },
  {
   "cell_type": "markdown",
   "metadata": {},
   "source": [
    "#### Making slices\n",
    "\n",
    "*Pandas docs: [Slicing ranges](http://pandas.pydata.org/pandas-docs/stable/indexing.html#slicing-ranges)*\n",
    "\n",
    "This is similar to slicing plain Python lists:"
   ]
  },
  {
   "cell_type": "code",
   "execution_count": 47,
   "metadata": {
    "collapsed": false
   },
   "outputs": [
    {
     "data": {
      "text/plain": [
       "delta    10\n",
       "alpha    99\n",
       "dtype: int64"
      ]
     },
     "execution_count": 47,
     "metadata": {},
     "output_type": "execute_result"
    }
   ],
   "source": [
    "myseries = pd.Series([42, 30, 10, 99], index = ['gamma', 'beta', 'delta', 'alpha'])\n",
    "\n",
    "myseries[2:]"
   ]
  },
  {
   "cell_type": "markdown",
   "metadata": {},
   "source": [
    "However, we can also slice a Series by its index values:\n"
   ]
  },
  {
   "cell_type": "code",
   "execution_count": 45,
   "metadata": {
    "collapsed": false
   },
   "outputs": [
    {
     "data": {
      "text/plain": [
       "gamma    42\n",
       "beta     30\n",
       "dtype: int64"
      ]
     },
     "execution_count": 45,
     "metadata": {},
     "output_type": "execute_result"
    }
   ],
   "source": [
    "myseries['gamma':'beta']"
   ]
  },
  {
   "cell_type": "markdown",
   "metadata": {},
   "source": [
    "A couple of things to note:\n",
    "\n",
    "1. Unlike ranges that use integers, ranges with index values are _inclusive_, i.e. the row indexed as `beta` is also included in the resulting sub-Series.\n",
    "2. You can see how confusing things get if you choose to index your series in non-traditional order, which, in the above scenario, would be alphabetical order."
   ]
  },
  {
   "cell_type": "markdown",
   "metadata": {},
   "source": [
    "### Series-wide operations and transformations\n",
    "\n",
    "Assuming that everything in a given Series is of a single type, we can perform mass operations (better known as [scalar and array operations](http://en.wikipedia.org/wiki/Scalar_%28mathematics%29)) on that Series, creating a new Series object in the process."
   ]
  },
  {
   "cell_type": "markdown",
   "metadata": {},
   "source": [
    "Here's how to mass-assign the string `'fluffy'` to the same range of rows accessed in the previous example:"
   ]
  },
  {
   "cell_type": "code",
   "execution_count": 24,
   "metadata": {
    "collapsed": false
   },
   "outputs": [
    {
     "data": {
      "text/plain": [
       "gamma        42\n",
       "beta         30\n",
       "delta    fluffy\n",
       "alpha    fluffy\n",
       "dtype: object"
      ]
     },
     "execution_count": 24,
     "metadata": {},
     "output_type": "execute_result"
    }
   ],
   "source": [
    "myseries[2:] = 'fluffy'\n",
    "myseries"
   ]
  },
  {
   "cell_type": "markdown",
   "metadata": {},
   "source": [
    "Note how the `dtype` of `myseries` changed to `object`; the series no longer contains just integers. Although _Series_ are just like lists and dictionaries in that they can contain a sequence of any type of objects, we normally strive to keep them all of one type in most data-wrangling/analysis scenarios."
   ]
  },
  {
   "cell_type": "markdown",
   "metadata": {},
   "source": [
    "Here's an example of __scalar arithmetic__, e.g. multiplying all of the elements in the Series with a single value:"
   ]
  },
  {
   "cell_type": "code",
   "execution_count": 48,
   "metadata": {
    "collapsed": false
   },
   "outputs": [
    {
     "data": {
      "text/plain": [
       "gamma    420\n",
       "beta     300\n",
       "delta    100\n",
       "alpha    990\n",
       "dtype: int64"
      ]
     },
     "execution_count": 48,
     "metadata": {},
     "output_type": "execute_result"
    }
   ],
   "source": [
    "myseries = pd.Series([42, 30, 10, 99], index = ['gamma', 'beta', 'delta', 'alpha'])\n",
    "myseries * 10"
   ]
  },
  {
   "cell_type": "markdown",
   "metadata": {},
   "source": [
    "And here's an example of __array arithmetic__, e.g. adding elements of a Series with corresponding elements from another sequence (i.e. a list or Series) to produce a new Series: "
   ]
  },
  {
   "cell_type": "code",
   "execution_count": 50,
   "metadata": {
    "collapsed": false
   },
   "outputs": [
    {
     "data": {
      "text/plain": [
       "gamma    1042\n",
       "beta     2030\n",
       "delta    3010\n",
       "alpha   -3901\n",
       "dtype: int64"
      ]
     },
     "execution_count": 50,
     "metadata": {},
     "output_type": "execute_result"
    }
   ],
   "source": [
    "myseries + [1000, 2000, 3000, -4000]"
   ]
  },
  {
   "cell_type": "markdown",
   "metadata": {},
   "source": [
    "Attempting to perform array operations against differently-sized sequences will result in an error:"
   ]
  },
  {
   "cell_type": "markdown",
   "metadata": {},
   "source": [
    "```py\n",
    "myseries + [1000, 2000]\n",
    "```"
   ]
  },
  {
   "cell_type": "markdown",
   "metadata": {},
   "source": [
    "#### Boolean operations\n",
    "\n",
    "Boolean expressions are also possible. The following command creates a new Series object that contains the result of the boolean expression as it is applied to each row:"
   ]
  },
  {
   "cell_type": "code",
   "execution_count": 30,
   "metadata": {
    "collapsed": false
   },
   "outputs": [
    {
     "data": {
      "text/plain": [
       "gamma     True\n",
       "beta      True\n",
       "delta    False\n",
       "alpha     True\n",
       "dtype: bool"
      ]
     },
     "execution_count": 30,
     "metadata": {},
     "output_type": "execute_result"
    }
   ],
   "source": [
    "myseries > 20"
   ]
  },
  {
   "cell_type": "markdown",
   "metadata": {},
   "source": [
    "### Aggregating series\n",
    "\n",
    "The _pandas_ Series objects come with a variety of useful and familiar aggregation methods and attributes:"
   ]
  },
  {
   "cell_type": "code",
   "execution_count": 65,
   "metadata": {
    "collapsed": false
   },
   "outputs": [
    {
     "data": {
      "text/plain": [
       "3"
      ]
     },
     "execution_count": 65,
     "metadata": {},
     "output_type": "execute_result"
    }
   ],
   "source": [
    "myseries = pd.Series({'a': 20, 'b': -5, 'c': 42})\n",
    "myseries.size"
   ]
  },
  {
   "cell_type": "code",
   "execution_count": 67,
   "metadata": {
    "collapsed": false
   },
   "outputs": [
    {
     "data": {
      "text/plain": [
       "57"
      ]
     },
     "execution_count": 67,
     "metadata": {},
     "output_type": "execute_result"
    }
   ],
   "source": [
    "myseries.sum()"
   ]
  },
  {
   "cell_type": "code",
   "execution_count": 68,
   "metadata": {
    "collapsed": false
   },
   "outputs": [
    {
     "data": {
      "text/plain": [
       "19.0"
      ]
     },
     "execution_count": 68,
     "metadata": {},
     "output_type": "execute_result"
    }
   ],
   "source": [
    "myseries.mean()"
   ]
  },
  {
   "cell_type": "code",
   "execution_count": 69,
   "metadata": {
    "collapsed": false
   },
   "outputs": [
    {
     "data": {
      "text/plain": [
       "-5"
      ]
     },
     "execution_count": 69,
     "metadata": {},
     "output_type": "execute_result"
    }
   ],
   "source": [
    "myseries.min()"
   ]
  },
  {
   "cell_type": "markdown",
   "metadata": {},
   "source": [
    "### Filtering series\n",
    "\n",
    "One of the biggest advantages for us in using _pandas_ data structures are their many methods for filtering data.\n",
    "\n",
    "Consider how we filter a dictionary in plain Python:"
   ]
  },
  {
   "cell_type": "code",
   "execution_count": 62,
   "metadata": {
    "collapsed": false
   },
   "outputs": [],
   "source": [
    "mydict = {'apples': 42, 'bagels': 9, 'carrots': 303, 'dates': 7}\n",
    "newdict = {}\n",
    "for k, v in mydict.items():\n",
    "    if v > 10:\n",
    "        newdict[k] = v"
   ]
  },
  {
   "cell_type": "markdown",
   "metadata": {},
   "source": [
    "Or if you prefer using a [comprehension](http://stackoverflow.com/a/16589453/160863):"
   ]
  },
  {
   "cell_type": "code",
   "execution_count": 56,
   "metadata": {
    "collapsed": false
   },
   "outputs": [
    {
     "data": {
      "text/plain": [
       "{'apples': 42, 'carrots': 303}"
      ]
     },
     "execution_count": 56,
     "metadata": {},
     "output_type": "execute_result"
    }
   ],
   "source": [
    "{k: v for k, v in mydict.items() if v > 10}"
   ]
  },
  {
   "cell_type": "markdown",
   "metadata": {},
   "source": [
    "Filtering a Series can be done using the same bracket `[]` notation used in indexing a Series:"
   ]
  },
  {
   "cell_type": "code",
   "execution_count": 93,
   "metadata": {
    "collapsed": false
   },
   "outputs": [
    {
     "data": {
      "text/plain": [
       "apples      42\n",
       "carrots    303\n",
       "dtype: int64"
      ]
     },
     "execution_count": 93,
     "metadata": {},
     "output_type": "execute_result"
    }
   ],
   "source": [
    "myseries = pd.Series({'apples': 42, 'bagels': 9, 'carrots': 303, 'dates': 7})\n",
    "\n",
    "myseries[myseries > 10]"
   ]
  },
  {
   "cell_type": "markdown",
   "metadata": {},
   "source": [
    "### Changing the index\n",
    "\n",
    "It can't be emphasized enough that while a _pandas_ Series is as accessible as a Python dictionary, it still maintains its specified order of keys, i.e. its __index__, and the values they map to."
   ]
  },
  {
   "cell_type": "markdown",
   "metadata": {},
   "source": [
    "When creating a Series from a Python list, its index is simply the numerical position of each element. And in creating a Series from a dictionary, its index are the keys of the dictionary: "
   ]
  },
  {
   "cell_type": "code",
   "execution_count": 82,
   "metadata": {
    "collapsed": false
   },
   "outputs": [
    {
     "data": {
      "text/plain": [
       "Int64Index([0, 1, 2], dtype='int64')"
      ]
     },
     "execution_count": 82,
     "metadata": {},
     "output_type": "execute_result"
    }
   ],
   "source": [
    "series_a = pd.Series([4, 10, 3])\n",
    "series_a.index"
   ]
  },
  {
   "cell_type": "code",
   "execution_count": 81,
   "metadata": {
    "collapsed": false
   },
   "outputs": [
    {
     "data": {
      "text/plain": [
       "Index(['x', 'y', 'z'], dtype='object')"
      ]
     },
     "execution_count": 81,
     "metadata": {},
     "output_type": "execute_result"
    }
   ],
   "source": [
    "series_b = pd.Series({'x': 500, 'y': 600, 'z': 700})\n",
    "series_b.index"
   ]
  },
  {
   "cell_type": "markdown",
   "metadata": {},
   "source": [
    "The `index=` method can be used to change the index, effectively __relabeling__ the data, by substituting a list of new index values (the Series and the list of new index values have to be the same size):"
   ]
  },
  {
   "cell_type": "code",
   "execution_count": 92,
   "metadata": {
    "collapsed": false
   },
   "outputs": [
    {
     "data": {
      "text/plain": [
       "Index(['a', 'b', 'c'], dtype='object')"
      ]
     },
     "execution_count": 92,
     "metadata": {},
     "output_type": "execute_result"
    }
   ],
   "source": [
    "myseries = pd.Series([4, 10, 3])\n",
    "myseries.index = ['a', 'b', 'c']\n",
    "myseries.index"
   ]
  },
  {
   "cell_type": "markdown",
   "metadata": {},
   "source": [
    "#### Reindexing\n",
    "\n",
    "The `reindex()` method allows you to rearrange the values of a Series; note that it __does not change__ the Series object but creates a new one:"
   ]
  },
  {
   "cell_type": "code",
   "execution_count": 96,
   "metadata": {
    "collapsed": false
   },
   "outputs": [
    {
     "data": {
      "text/plain": [
       "bagels       9\n",
       "apples      42\n",
       "carrots    303\n",
       "dtype: int64"
      ]
     },
     "execution_count": 96,
     "metadata": {},
     "output_type": "execute_result"
    }
   ],
   "source": [
    "myseries = pd.Series({'apples': 42, 'bagels': 9, 'carrots': 303})\n",
    "myseries.reindex(['bagels', 'apples', 'carrots'])"
   ]
  },
  {
   "cell_type": "markdown",
   "metadata": {},
   "source": [
    "Reindexing the series using values not found in the original index will return a Series that contains the new index values pointing to null/`NaN` values:"
   ]
  },
  {
   "cell_type": "code",
   "execution_count": 98,
   "metadata": {
    "collapsed": false
   },
   "outputs": [
    {
     "data": {
      "text/plain": [
       "oranges    NaN\n",
       "bagels       9\n",
       "apples      42\n",
       "carrots    303\n",
       "dtype: float64"
      ]
     },
     "execution_count": 98,
     "metadata": {},
     "output_type": "execute_result"
    }
   ],
   "source": [
    "myseries.reindex(['oranges', 'bagels', 'apples', 'carrots'])"
   ]
  },
  {
   "cell_type": "markdown",
   "metadata": {},
   "source": [
    "## The `pandas.Dataframes` structures\n",
    "\n",
    "The __DataFrame__ structure can be thought of as series of _Series_ objects, except that they share two indices: the index that represents the _row_ order, and the index that represents the _columns_ order. In other words, it's pretty much like a spreadsheet."
   ]
  },
  {
   "cell_type": "markdown",
   "metadata": {},
   "source": [
    "### Constructing a DataFrame\n",
    "\n",
    "You can create a DataFrame by passing in a list-of-lists, i.e. a 2-dimensional array. The more common route is to use the __read_csv()__ method, which can read from a local filename or, very conveniently, a URL:\n"
   ]
  },
  {
   "cell_type": "code",
   "execution_count": 3,
   "metadata": {
    "collapsed": false
   },
   "outputs": [
    {
     "data": {
      "text/html": [
       "<div style=\"max-height:1000px;max-width:1500px;overflow:auto;\">\n",
       "<table border=\"1\" class=\"dataframe\">\n",
       "  <thead>\n",
       "    <tr style=\"text-align: right;\">\n",
       "      <th></th>\n",
       "      <th>Date</th>\n",
       "      <th>Open</th>\n",
       "      <th>High</th>\n",
       "      <th>Low</th>\n",
       "      <th>Close</th>\n",
       "      <th>Volume</th>\n",
       "      <th>Adj Close</th>\n",
       "    </tr>\n",
       "  </thead>\n",
       "  <tbody>\n",
       "    <tr>\n",
       "      <th>0</th>\n",
       "      <td>2015-05-01</td>\n",
       "      <td>126.10000</td>\n",
       "      <td>130.13000</td>\n",
       "      <td>125.30000</td>\n",
       "      <td>128.95000</td>\n",
       "      <td>57195000</td>\n",
       "      <td>128.95000</td>\n",
       "    </tr>\n",
       "    <tr>\n",
       "      <th>1</th>\n",
       "      <td>2015-04-30</td>\n",
       "      <td>128.64000</td>\n",
       "      <td>128.64000</td>\n",
       "      <td>124.58000</td>\n",
       "      <td>125.15000</td>\n",
       "      <td>82475900</td>\n",
       "      <td>125.15000</td>\n",
       "    </tr>\n",
       "    <tr>\n",
       "      <th>2</th>\n",
       "      <td>2015-04-29</td>\n",
       "      <td>130.16000</td>\n",
       "      <td>131.59000</td>\n",
       "      <td>128.30000</td>\n",
       "      <td>128.64000</td>\n",
       "      <td>62410800</td>\n",
       "      <td>128.64000</td>\n",
       "    </tr>\n",
       "    <tr>\n",
       "      <th>3</th>\n",
       "      <td>2015-04-28</td>\n",
       "      <td>134.46001</td>\n",
       "      <td>134.53999</td>\n",
       "      <td>129.57001</td>\n",
       "      <td>130.56000</td>\n",
       "      <td>118580700</td>\n",
       "      <td>130.56000</td>\n",
       "    </tr>\n",
       "    <tr>\n",
       "      <th>4</th>\n",
       "      <td>2015-04-27</td>\n",
       "      <td>132.31000</td>\n",
       "      <td>133.13000</td>\n",
       "      <td>131.14999</td>\n",
       "      <td>132.64999</td>\n",
       "      <td>84783100</td>\n",
       "      <td>132.64999</td>\n",
       "    </tr>\n",
       "  </tbody>\n",
       "</table>\n",
       "</div>"
      ],
      "text/plain": [
       "        Date       Open       High        Low      Close     Volume  Adj Close\n",
       "0 2015-05-01  126.10000  130.13000  125.30000  128.95000   57195000  128.95000\n",
       "1 2015-04-30  128.64000  128.64000  124.58000  125.15000   82475900  125.15000\n",
       "2 2015-04-29  130.16000  131.59000  128.30000  128.64000   62410800  128.64000\n",
       "3 2015-04-28  134.46001  134.53999  129.57001  130.56000  118580700  130.56000\n",
       "4 2015-04-27  132.31000  133.13000  131.14999  132.64999   84783100  132.64999"
      ]
     },
     "execution_count": 3,
     "metadata": {},
     "output_type": "execute_result"
    }
   ],
   "source": [
    "# data from Yahoo Finance Historical Prices:\n",
    "# http://finance.yahoo.com/q/hp?s=AAPL\n",
    "csvurl = \"http://real-chart.finance.yahoo.com/table.csv?s=AAPL&a=00&b=1&c=2013&d=04&e=1&f=2015&g=d\"\n",
    "prices = pd.read_csv(csvurl, parse_dates = [0])\n",
    "prices.head()"
   ]
  },
  {
   "cell_type": "markdown",
   "metadata": {},
   "source": [
    "In the `read_csv()` call, I make use of the `parse_dates` argument and specify that the _first_ column contains a date that should be converted to a proper timestamp object. Again, something you could write a for-loop with the `datetime.strptime()` function, but a very handy conveneince that `pandas` brings to the table.\n",
    "\n",
    "By default, loading data via a CSV file (or via any other format besides a dictionary) will create a _DataFrame_ in which the _index_ is a sequential list of integers. But, as a DataFrame is a group of series, we can actually specify that one of its _columns_ be the index.\n",
    "\n",
    "In the following snippet, I create a new copy of the `prices` DataFrame, but using the `Date` column as the index:"
   ]
  },
  {
   "cell_type": "code",
   "execution_count": 5,
   "metadata": {
    "collapsed": false
   },
   "outputs": [
    {
     "data": {
      "text/html": [
       "<div style=\"max-height:1000px;max-width:1500px;overflow:auto;\">\n",
       "<table border=\"1\" class=\"dataframe\">\n",
       "  <thead>\n",
       "    <tr style=\"text-align: right;\">\n",
       "      <th></th>\n",
       "      <th>Date</th>\n",
       "      <th>Open</th>\n",
       "      <th>High</th>\n",
       "      <th>Low</th>\n",
       "      <th>Close</th>\n",
       "      <th>Volume</th>\n",
       "      <th>Adj Close</th>\n",
       "    </tr>\n",
       "    <tr>\n",
       "      <th>Date</th>\n",
       "      <th></th>\n",
       "      <th></th>\n",
       "      <th></th>\n",
       "      <th></th>\n",
       "      <th></th>\n",
       "      <th></th>\n",
       "      <th></th>\n",
       "    </tr>\n",
       "  </thead>\n",
       "  <tbody>\n",
       "    <tr>\n",
       "      <th>2015-05-01</th>\n",
       "      <td>2015-05-01</td>\n",
       "      <td>126.10000</td>\n",
       "      <td>130.13000</td>\n",
       "      <td>125.30000</td>\n",
       "      <td>128.95000</td>\n",
       "      <td>57195000</td>\n",
       "      <td>128.95000</td>\n",
       "    </tr>\n",
       "    <tr>\n",
       "      <th>2015-04-30</th>\n",
       "      <td>2015-04-30</td>\n",
       "      <td>128.64000</td>\n",
       "      <td>128.64000</td>\n",
       "      <td>124.58000</td>\n",
       "      <td>125.15000</td>\n",
       "      <td>82475900</td>\n",
       "      <td>125.15000</td>\n",
       "    </tr>\n",
       "    <tr>\n",
       "      <th>2015-04-29</th>\n",
       "      <td>2015-04-29</td>\n",
       "      <td>130.16000</td>\n",
       "      <td>131.59000</td>\n",
       "      <td>128.30000</td>\n",
       "      <td>128.64000</td>\n",
       "      <td>62410800</td>\n",
       "      <td>128.64000</td>\n",
       "    </tr>\n",
       "    <tr>\n",
       "      <th>2015-04-28</th>\n",
       "      <td>2015-04-28</td>\n",
       "      <td>134.46001</td>\n",
       "      <td>134.53999</td>\n",
       "      <td>129.57001</td>\n",
       "      <td>130.56000</td>\n",
       "      <td>118580700</td>\n",
       "      <td>130.56000</td>\n",
       "    </tr>\n",
       "    <tr>\n",
       "      <th>2015-04-27</th>\n",
       "      <td>2015-04-27</td>\n",
       "      <td>132.31000</td>\n",
       "      <td>133.13000</td>\n",
       "      <td>131.14999</td>\n",
       "      <td>132.64999</td>\n",
       "      <td>84783100</td>\n",
       "      <td>132.64999</td>\n",
       "    </tr>\n",
       "  </tbody>\n",
       "</table>\n",
       "</div>"
      ],
      "text/plain": [
       "                 Date       Open       High        Low      Close     Volume  \\\n",
       "Date                                                                           \n",
       "2015-05-01 2015-05-01  126.10000  130.13000  125.30000  128.95000   57195000   \n",
       "2015-04-30 2015-04-30  128.64000  128.64000  124.58000  125.15000   82475900   \n",
       "2015-04-29 2015-04-29  130.16000  131.59000  128.30000  128.64000   62410800   \n",
       "2015-04-28 2015-04-28  134.46001  134.53999  129.57001  130.56000  118580700   \n",
       "2015-04-27 2015-04-27  132.31000  133.13000  131.14999  132.64999   84783100   \n",
       "\n",
       "            Adj Close  \n",
       "Date                   \n",
       "2015-05-01  128.95000  \n",
       "2015-04-30  125.15000  \n",
       "2015-04-29  128.64000  \n",
       "2015-04-28  130.56000  \n",
       "2015-04-27  132.64999  "
      ]
     },
     "execution_count": 5,
     "metadata": {},
     "output_type": "execute_result"
    }
   ],
   "source": [
    "dprices = prices.set_index(prices['Date'])\n",
    "dprices.head()"
   ]
  },
  {
   "cell_type": "markdown",
   "metadata": {},
   "source": [
    "The practical implication is that I can now use a date string as a key to get rows:"
   ]
  },
  {
   "cell_type": "code",
   "execution_count": 6,
   "metadata": {
    "collapsed": false
   },
   "outputs": [
    {
     "data": {
      "text/html": [
       "<div style=\"max-height:1000px;max-width:1500px;overflow:auto;\">\n",
       "<table border=\"1\" class=\"dataframe\">\n",
       "  <thead>\n",
       "    <tr style=\"text-align: right;\">\n",
       "      <th></th>\n",
       "      <th>Date</th>\n",
       "      <th>Open</th>\n",
       "      <th>High</th>\n",
       "      <th>Low</th>\n",
       "      <th>Close</th>\n",
       "      <th>Volume</th>\n",
       "      <th>Adj Close</th>\n",
       "    </tr>\n",
       "    <tr>\n",
       "      <th>Date</th>\n",
       "      <th></th>\n",
       "      <th></th>\n",
       "      <th></th>\n",
       "      <th></th>\n",
       "      <th></th>\n",
       "      <th></th>\n",
       "      <th></th>\n",
       "    </tr>\n",
       "  </thead>\n",
       "  <tbody>\n",
       "    <tr>\n",
       "      <th>2015-04-27</th>\n",
       "      <td>2015-04-27</td>\n",
       "      <td>132.31</td>\n",
       "      <td>133.13</td>\n",
       "      <td>131.14999</td>\n",
       "      <td>132.64999</td>\n",
       "      <td>84783100</td>\n",
       "      <td>132.64999</td>\n",
       "    </tr>\n",
       "  </tbody>\n",
       "</table>\n",
       "</div>"
      ],
      "text/plain": [
       "                 Date    Open    High        Low      Close    Volume  \\\n",
       "Date                                                                    \n",
       "2015-04-27 2015-04-27  132.31  133.13  131.14999  132.64999  84783100   \n",
       "\n",
       "            Adj Close  \n",
       "Date                   \n",
       "2015-04-27  132.64999  "
      ]
     },
     "execution_count": 6,
     "metadata": {},
     "output_type": "execute_result"
    }
   ],
   "source": [
    "dprices['2015-04-27']"
   ]
  },
  {
   "cell_type": "markdown",
   "metadata": {
    "collapsed": true
   },
   "source": [
    "I've made a separate walkthrough [using more Yahoo Finance data with data frames here](http://nbviewer.ipython.org/url/www.compjour.org/notebooks/Apple%20Stock.ipynb).\n",
    "\n",
    "\n",
    "For more thorough walkthroughs with DataFrames, check out Greg Reda's work:\n",
    "\n",
    "- [Working with DataFrames](http://www.gregreda.com/2013/10/26/working-with-pandas-dataframes/)\n",
    "- [Using pandas with the MovieLens dataset](http://www.gregreda.com/2013/10/26/using-pandas-on-the-movielens-dataset/)\n"
   ]
  },
  {
   "cell_type": "code",
   "execution_count": null,
   "metadata": {
    "collapsed": true
   },
   "outputs": [],
   "source": []
  }
 ],
 "metadata": {
  "kernelspec": {
   "display_name": "Python 3",
   "language": "python",
   "name": "python3"
  },
  "language_info": {
   "codemirror_mode": {
    "name": "ipython",
    "version": 3
   },
   "file_extension": ".py",
   "mimetype": "text/x-python",
   "name": "python",
   "nbconvert_exporter": "python",
   "pygments_lexer": "ipython3",
   "version": "3.4.3"
  }
 },
 "nbformat": 4,
 "nbformat_minor": 0
}
