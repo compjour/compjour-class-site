{
 "cells": [
  {
   "cell_type": "markdown",
   "metadata": {},
   "source": [
    "# Collecting and analyzing data about Stanford tuition\n",
    "\n",
    "\n",
    "> *A little more than one year ago Stanford students paid no tuition fee. Just one year ago a charge of 40 dollars per quarter was made to all students for the first time in the history of the institution. In less than one year from now every student entering the University for the first time will pay a tuition fee of 225 dollars a year.*\n",
    "\n",
    "> *What does this all mean? Every Stanford Alumnus will and should be asking himself this question: Is Stanford no longer to be the institution of the \"good old days\"? Does it mean that the poor man is no longer to be welcome to the campus; that Stanford is to be a \"rich man's college\"; that the Stanford \"S\" will henceforth be spelled with the \"&#36;\" sign?*\n",
    "\n",
    "> *&mdash; [\"The Second Tuition Bomb\" - The Stanford Illustrated Review (books.google.com)](https://books.google.com/books?id=dMDmAAAAMAAJ&lpg=PT5&ots=JM5OTxRHRl&dq=stanford%20first%20tuition%20increase&pg=PT5#v=onepage&q&f=false)* \n",
    "\n",
    "The above lament comes from the editorial page of the Stanford Illustrated Review in its __January 1921 edition__. Ninety-five years later, tuition is still (mostly) mandatory. While we can't ascertain if Stanford (or \"&#36;tanford\") has continued to stray from the \"good old days\" from before 1920, we can at least analyze the raw tuition fee numbers as Stanford lists them on its [Administration & Finances Facts page](http://facts.stanford.edu/administration/finances). Let's scrape the data from the HTML data and programmatically chart the data to better see the trend. \n",
    "\n",
    "This web-scraping-to-Matplotlib-tutorial comes from the [COMM 277A: Computational Journalism 2015 lesson plan](http://www.compjour.org/weeks/6/). It should work with an [Anaconda installation of Python 3.x](https://www.continuum.io/downloads)\n",
    "\n"
   ]
  },
  {
   "cell_type": "markdown",
   "metadata": {},
   "source": [
    "\n",
    "\n",
    "## Download the data\n",
    "\n",
    "Scroll down the [Stanford Finances page](http://facts.stanford.edu/administration/finances) to find this HTML table:\n",
    "\n",
    "![image stanford-tuition-html-table.png](images/stanford-tuition-html-table.png)\n",
    "\n",
    "Note that not every year is listed. For consecutive years in which the tuition remained the same, the year column contains the starting year of the tuition change. For example, in the 1950s, tuition was pegged at 660 dollars, until 1960, when it was raised to 1,005 dollars:\n",
    "\n",
    "| Academic year | Tuition |\n",
    "|---------------|---------|\n",
    "| 1940-41       | 345    |\n",
    "| 1950-51       | 660    |\n",
    "| 1960-61       | 1,005  |\n",
    "\n",
    "\n",
    "This is what the HTML looks like:\n",
    "\n",
    "```html\n",
    "<table class=\"table table-striped data-table col-1-text\">\n",
    "    <thead>\n",
    "        <tr>\n",
    "            <th>Academic Year</th>\n",
    "            <th>Tuition</th>\n",
    "        </tr>\n",
    "    </thead>\n",
    "    <tbody>\n",
    "        <tr>\n",
    "            <td width=\"49%\">1920-21</td>\n",
    "            <td width=\"51%\">$120</td>\n",
    "        </tr>\n",
    "        <tr>\n",
    "            <td>1930-31</td>\n",
    "            <td>$300</td>\n",
    "        </tr>\n",
    "        <tr>\n",
    "            <td>1940-41</td>\n",
    "            <td>$345</td>\n",
    "        </tr>\n",
    "        <tr>\n",
    "            <td>1950-51</td>\n",
    "            <td>$660</td>\n",
    "        </tr>\n",
    "    </tbody>\n",
    "</table>\n",
    "```\n",
    "\n",
    "\n",
    "Below is the Python to scrape it, with the use of the [lxml library for HTML parsing](http://lxml.de/):\n"
   ]
  },
  {
   "cell_type": "code",
   "execution_count": 1,
   "metadata": {
    "collapsed": true
   },
   "outputs": [],
   "source": [
    "# scraping stanford's tuition page\n",
    "\n",
    "import pandas as pd\n",
    "import csv\n",
    "from lxml import html\n",
    "import requests\n",
    "import re\n",
    "# live site is at: \"http://facts.stanford.edu/administration/finances\"\n",
    "# mirror can be found here:\n",
    "# http://stash.compjour.org/mirrors/facts.stanford.edu/administration/finances.html\n",
    "url = 'http://facts.stanford.edu/administration/finances'\n",
    "resp = requests.get(url)\n",
    "doc = html.fromstring(resp.text)\n",
    "table = doc.cssselect('table')[3]\n",
    "\n",
    "rows = []\n",
    "for trs in table.cssselect('tr')[1:]:\n",
    "    yr, cost = [t.text for t in trs]\n",
    "    # cut off the \"1959\" part of \"1950-1959\"\n",
    "    rows.append( [int(yr.split('-')[0]), int(re.sub('\\D', '', cost))])\n",
    "\n",
    "# alternatively\n",
    "# rows = [( int(tds[0].text.split('-')[0]), int(re.sub('\\D', '', tds[1].text))) for tds in\n",
    "#              [trs for trs in table.cssselect('tr')[1:]]]"
   ]
  },
  {
   "cell_type": "markdown",
   "metadata": {},
   "source": [
    "Now we need to fill in the gaps between the decades; for years in which no tuition is specified, we assume it's the same tuition as the previous year.\n",
    "\n",
    "Warning: convoluted code to follow"
   ]
  },
  {
   "cell_type": "code",
   "execution_count": 4,
   "metadata": {
    "collapsed": false
   },
   "outputs": [],
   "source": [
    "# make a row for every year\n",
    "tuition_rows = []\n",
    "for row in rows:\n",
    "    if len(tuition_rows) > 0:\n",
    "        lastyr, lastcost = tuition_rows[-1]\n",
    "        tuition_rows.extend([[lastyr + i, lastcost] for i in range(1, row[0] - lastyr)])\n",
    "    tuition_rows.append(row)\n",
    "\n",
    "# Now make a dataframe\n",
    "tuition_df = pd.DataFrame(tuition_rows, columns = ['year', 'tuition'])"
   ]
  },
  {
   "cell_type": "markdown",
   "metadata": {},
   "source": [
    "Let's check the first and last few rows with the `head()` and `tail()` methods of the dataframe:"
   ]
  },
  {
   "cell_type": "code",
   "execution_count": 5,
   "metadata": {
    "collapsed": false
   },
   "outputs": [
    {
     "data": {
      "text/html": [
       "<div>\n",
       "<table border=\"1\" class=\"dataframe\">\n",
       "  <thead>\n",
       "    <tr style=\"text-align: right;\">\n",
       "      <th></th>\n",
       "      <th>year</th>\n",
       "      <th>tuition</th>\n",
       "    </tr>\n",
       "  </thead>\n",
       "  <tbody>\n",
       "    <tr>\n",
       "      <th>0</th>\n",
       "      <td>1920</td>\n",
       "      <td>120</td>\n",
       "    </tr>\n",
       "    <tr>\n",
       "      <th>1</th>\n",
       "      <td>1921</td>\n",
       "      <td>120</td>\n",
       "    </tr>\n",
       "    <tr>\n",
       "      <th>2</th>\n",
       "      <td>1922</td>\n",
       "      <td>120</td>\n",
       "    </tr>\n",
       "    <tr>\n",
       "      <th>3</th>\n",
       "      <td>1923</td>\n",
       "      <td>120</td>\n",
       "    </tr>\n",
       "    <tr>\n",
       "      <th>4</th>\n",
       "      <td>1924</td>\n",
       "      <td>120</td>\n",
       "    </tr>\n",
       "  </tbody>\n",
       "</table>\n",
       "</div>"
      ],
      "text/plain": [
       "   year  tuition\n",
       "0  1920      120\n",
       "1  1921      120\n",
       "2  1922      120\n",
       "3  1923      120\n",
       "4  1924      120"
      ]
     },
     "execution_count": 5,
     "metadata": {},
     "output_type": "execute_result"
    }
   ],
   "source": [
    "tuition_df.head()"
   ]
  },
  {
   "cell_type": "code",
   "execution_count": 6,
   "metadata": {
    "collapsed": false
   },
   "outputs": [
    {
     "data": {
      "text/html": [
       "<div>\n",
       "<table border=\"1\" class=\"dataframe\">\n",
       "  <thead>\n",
       "    <tr style=\"text-align: right;\">\n",
       "      <th></th>\n",
       "      <th>year</th>\n",
       "      <th>tuition</th>\n",
       "    </tr>\n",
       "  </thead>\n",
       "  <tbody>\n",
       "    <tr>\n",
       "      <th>91</th>\n",
       "      <td>2011</td>\n",
       "      <td>40050</td>\n",
       "    </tr>\n",
       "    <tr>\n",
       "      <th>92</th>\n",
       "      <td>2012</td>\n",
       "      <td>41250</td>\n",
       "    </tr>\n",
       "    <tr>\n",
       "      <th>93</th>\n",
       "      <td>2013</td>\n",
       "      <td>42690</td>\n",
       "    </tr>\n",
       "    <tr>\n",
       "      <th>94</th>\n",
       "      <td>2014</td>\n",
       "      <td>44184</td>\n",
       "    </tr>\n",
       "    <tr>\n",
       "      <th>95</th>\n",
       "      <td>2015</td>\n",
       "      <td>45729</td>\n",
       "    </tr>\n",
       "  </tbody>\n",
       "</table>\n",
       "</div>"
      ],
      "text/plain": [
       "    year  tuition\n",
       "91  2011    40050\n",
       "92  2012    41250\n",
       "93  2013    42690\n",
       "94  2014    44184\n",
       "95  2015    45729"
      ]
     },
     "execution_count": 6,
     "metadata": {},
     "output_type": "execute_result"
    }
   ],
   "source": [
    "tuition_df.tail()"
   ]
  },
  {
   "cell_type": "markdown",
   "metadata": {},
   "source": [
    "Looks good!"
   ]
  },
  {
   "cell_type": "markdown",
   "metadata": {},
   "source": [
    "### Make an inflation-calcuation function\n",
    "\n",
    "Of course, the value of a dollar has changed just as much as the actual tuition fee. Let's gather CPI/inflation data from OKFN (the latest year in the set is 2014):\n",
    "\n",
    "[US Consumer Price Index and Inflation (CPI)](http://data.okfn.org/data/core/cpi-us)\n"
   ]
  },
  {
   "cell_type": "code",
   "execution_count": 19,
   "metadata": {
    "collapsed": false
   },
   "outputs": [
    {
     "name": "stderr",
     "output_type": "stream",
     "text": [
      "/Users/dtown/.pyenv/versions/anaconda3-2.4.0/lib/python3.5/site-packages/ipykernel/__main__.py:7: FutureWarning: convert_objects is deprecated.  Use the data-type specific converters pd.to_datetime, pd.to_timedelta and pd.to_numeric.\n"
     ]
    },
    {
     "data": {
      "text/html": [
       "<div>\n",
       "<table border=\"1\" class=\"dataframe\">\n",
       "  <thead>\n",
       "    <tr style=\"text-align: right;\">\n",
       "      <th></th>\n",
       "      <th>year</th>\n",
       "      <th>tuition</th>\n",
       "      <th>adjusted_tuition</th>\n",
       "    </tr>\n",
       "  </thead>\n",
       "  <tbody>\n",
       "    <tr>\n",
       "      <th>0</th>\n",
       "      <td>1920</td>\n",
       "      <td>120</td>\n",
       "      <td>1401</td>\n",
       "    </tr>\n",
       "    <tr>\n",
       "      <th>1</th>\n",
       "      <td>1921</td>\n",
       "      <td>120</td>\n",
       "      <td>1573</td>\n",
       "    </tr>\n",
       "    <tr>\n",
       "      <th>2</th>\n",
       "      <td>1922</td>\n",
       "      <td>120</td>\n",
       "      <td>1676</td>\n",
       "    </tr>\n",
       "    <tr>\n",
       "      <th>3</th>\n",
       "      <td>1923</td>\n",
       "      <td>120</td>\n",
       "      <td>1646</td>\n",
       "    </tr>\n",
       "    <tr>\n",
       "      <th>4</th>\n",
       "      <td>1924</td>\n",
       "      <td>120</td>\n",
       "      <td>1639</td>\n",
       "    </tr>\n",
       "    <tr>\n",
       "      <th>5</th>\n",
       "      <td>1925</td>\n",
       "      <td>120</td>\n",
       "      <td>1600</td>\n",
       "    </tr>\n",
       "    <tr>\n",
       "      <th>6</th>\n",
       "      <td>1926</td>\n",
       "      <td>120</td>\n",
       "      <td>1586</td>\n",
       "    </tr>\n",
       "    <tr>\n",
       "      <th>7</th>\n",
       "      <td>1927</td>\n",
       "      <td>120</td>\n",
       "      <td>1617</td>\n",
       "    </tr>\n",
       "    <tr>\n",
       "      <th>8</th>\n",
       "      <td>1928</td>\n",
       "      <td>120</td>\n",
       "      <td>1636</td>\n",
       "    </tr>\n",
       "    <tr>\n",
       "      <th>9</th>\n",
       "      <td>1929</td>\n",
       "      <td>120</td>\n",
       "      <td>1636</td>\n",
       "    </tr>\n",
       "    <tr>\n",
       "      <th>10</th>\n",
       "      <td>1930</td>\n",
       "      <td>300</td>\n",
       "      <td>4202</td>\n",
       "    </tr>\n",
       "    <tr>\n",
       "      <th>11</th>\n",
       "      <td>1931</td>\n",
       "      <td>300</td>\n",
       "      <td>4614</td>\n",
       "    </tr>\n",
       "    <tr>\n",
       "      <th>12</th>\n",
       "      <td>1932</td>\n",
       "      <td>300</td>\n",
       "      <td>5144</td>\n",
       "    </tr>\n",
       "    <tr>\n",
       "      <th>13</th>\n",
       "      <td>1933</td>\n",
       "      <td>300</td>\n",
       "      <td>5426</td>\n",
       "    </tr>\n",
       "    <tr>\n",
       "      <th>14</th>\n",
       "      <td>1934</td>\n",
       "      <td>300</td>\n",
       "      <td>5243</td>\n",
       "    </tr>\n",
       "  </tbody>\n",
       "</table>\n",
       "</div>"
      ],
      "text/plain": [
       "    year  tuition  adjusted_tuition\n",
       "0   1920      120              1401\n",
       "1   1921      120              1573\n",
       "2   1922      120              1676\n",
       "3   1923      120              1646\n",
       "4   1924      120              1639\n",
       "5   1925      120              1600\n",
       "6   1926      120              1586\n",
       "7   1927      120              1617\n",
       "8   1928      120              1636\n",
       "9   1929      120              1636\n",
       "10  1930      300              4202\n",
       "11  1931      300              4614\n",
       "12  1932      300              5144\n",
       "13  1933      300              5426\n",
       "14  1934      300              5243"
      ]
     },
     "execution_count": 19,
     "metadata": {},
     "output_type": "execute_result"
    }
   ],
   "source": [
    "########################\n",
    "# Set up inflation calculator\n",
    "\n",
    "url = 'https://raw.githubusercontent.com/datasets/cpi-us/master/data/cpiai.csv'\n",
    "cpidata = list(csv.reader(requests.get(url).text.splitlines()))\n",
    "cpidf = pd.DataFrame(cpidata[1:], columns = cpidata[0])\n",
    "cpidf = pd.DataFrame.convert_objects(cpidf, convert_dates = 'coerce', convert_numeric = True)\n",
    "cpimean_df = cpidf.groupby(cpidf['Date'].map(lambda x: x.year)).mean()\n",
    "\n",
    "def adjust_for_inflation(amt, from_year, to_year=2014, max_year=2014):\n",
    "    f_year = min(from_year, max_year) # don't have 2015 data\n",
    "    ratio = cpimean_df['Index'][to_year] / cpimean_df['Index'][f_year]\n",
    "    return int(round(ratio * amt))\n",
    "\n",
    "tuition_df['adjusted_tuition'] = tuition_df.apply(lambda row: adjust_for_inflation(row['tuition'], row['year']), axis=1)\n",
    "tuition_df.head(15)\n",
    "\n"
   ]
  },
  {
   "cell_type": "markdown",
   "metadata": {},
   "source": [
    "## Charting time\n",
    "\n",
    "\n",
    "Now we can chart.\n"
   ]
  },
  {
   "cell_type": "code",
   "execution_count": 20,
   "metadata": {
    "collapsed": true
   },
   "outputs": [],
   "source": [
    "import matplotlib.pyplot as pyplot\n",
    "# this part is needed if you are doing this in an iPython notebook\n",
    "%matplotlib inline"
   ]
  },
  {
   "cell_type": "markdown",
   "metadata": {},
   "source": [
    "### Tuition, sans inflation"
   ]
  },
  {
   "cell_type": "code",
   "execution_count": 21,
   "metadata": {
    "collapsed": false
   },
   "outputs": [
    {
     "data": {
      "text/plain": [
       "[<matplotlib.lines.Line2D at 0x110dfc2b0>]"
      ]
     },
     "execution_count": 21,
     "metadata": {},
     "output_type": "execute_result"
    },
    {
     "data": {
      "image/png": "[encoded data removed]",
      "text/plain": [
       "<matplotlib.figure.Figure at 0x110cf1438>"
      ]
     },
     "metadata": {},
     "output_type": "display_data"
    }
   ],
   "source": [
    "pyplot.plot(tuition_df['year'], tuition_df['tuition'])"
   ]
  },
  {
   "cell_type": "markdown",
   "metadata": {},
   "source": [
    "### Tuition, adjusted for inflation"
   ]
  },
  {
   "cell_type": "code",
   "execution_count": 22,
   "metadata": {
    "collapsed": false
   },
   "outputs": [
    {
     "data": {
      "text/plain": [
       "[<matplotlib.lines.Line2D at 0x11382f2e8>]"
      ]
     },
     "execution_count": 22,
     "metadata": {},
     "output_type": "execute_result"
    },
    {
     "data": {
      "image/png": "[encoded data removed]",
      "text/plain": [
       "<matplotlib.figure.Figure at 0x110defc50>"
      ]
     },
     "metadata": {},
     "output_type": "display_data"
    }
   ],
   "source": [
    "pyplot.plot(tuition_df['year'], tuition_df['adjusted_tuition'])"
   ]
  },
  {
   "cell_type": "markdown",
   "metadata": {},
   "source": [
    "### Tuition, non-adjusted and adjusted for inflation; on the same chart"
   ]
  },
  {
   "cell_type": "code",
   "execution_count": 23,
   "metadata": {
    "collapsed": false
   },
   "outputs": [
    {
     "data": {
      "text/plain": [
       "[<matplotlib.lines.Line2D at 0x1137ff320>]"
      ]
     },
     "execution_count": 23,
     "metadata": {},
     "output_type": "execute_result"
    },
    {
     "data": {
      "image/png": "[encoded data removed]",
      "text/plain": [
       "<matplotlib.figure.Figure at 0x1137ff198>"
      ]
     },
     "metadata": {},
     "output_type": "display_data"
    }
   ],
   "source": [
    "pyplot.plot(tuition_df['year'], tuition_df['tuition'], label = 'Unadjusted', color = 'orange')\n",
    "pyplot.plot(tuition_df['year'], tuition_df['adjusted_tuition'], label = 'Adjusted', color = 'red')"
   ]
  },
  {
   "cell_type": "markdown",
   "metadata": {},
   "source": [
    "## Tuition since 1990; adjusted and non-adjusted\n",
    "\n",
    "Sometimes it's more helpful to see just the most recent couple of decades; again, unadjusted is in the orange, adjusted-for-inflation is in the red:"
   ]
  },
  {
   "cell_type": "code",
   "execution_count": 26,
   "metadata": {
    "collapsed": false
   },
   "outputs": [
    {
     "data": {
      "text/plain": [
       "(0, 50000.0)"
      ]
     },
     "execution_count": 26,
     "metadata": {},
     "output_type": "execute_result"
    },
    {
     "data": {
      "image/png": "[encoded data removed]",
      "text/plain": [
       "<matplotlib.figure.Figure at 0x110737390>"
      ]
     },
     "metadata": {},
     "output_type": "display_data"
    }
   ],
   "source": [
    "xdf = tuition_df[tuition_df['year'] > 1990]\n",
    "\n",
    "pyplot.plot(xdf['year'], xdf['tuition'], label = 'Unadjusted', color = 'orange')\n",
    "pyplot.plot(xdf['year'], xdf['adjusted_tuition'], label = 'Adjusted', color = 'red')\n",
    "pyplot.ylim(ymin = 0)"
   ]
  },
  {
   "cell_type": "markdown",
   "metadata": {
    "collapsed": true
   },
   "source": [
    "# The good ol days for &#36;tanford?\n",
    "\n",
    "There's a lot more to assessing the increase of tuition than tuition fees themselves. For example, student fees ([listed here](https://registrar.stanford.edu/students/tuition-and-fees)) and living costs are non-trivial factors. On the other hand, the Stanford Review editorial board's worry that [Stanford would become just a \"rich man's college\"](https://books.google.com/books?id=dMDmAAAAMAAJ&lpg=PT5&ots=JM5OTxRHRl&dq=stanford%20first%20tuition%20increase&pg=PT5#v=onepage&q&f=false) hasn't entirely come to pass -- Stanford has long since given free tuition to students from families from lower household incomes ([up to $125,000 -- which benefits nearly 30 percent of undergraduates](http://www.theatlantic.com/education/archive/2015/04/stanfords-tuition-giveaway-is-not-good-news/390090/)). Also worth considering: whether the _value_ of a Stanford education has increased accordingly, even since the days when [Herbert Hoover made his journey from dorm rat to builder of towers](https://books.google.com/books?id=hwnHCgAAQBAJ&pg=PT21&lpg=PT21&dq=herbert+hoover+stanford+dorm&source=bl&ots=XH2_2LPNHi&sig=oawDx4TlhDrlEGRZrG6oQbwCU54&hl=en&sa=X&ved=0ahUKEwilipng9cfLAhUO8GMKHYTLBd0Q6AEIWDAN#v=onepage&q=herbert%20hoover%20stanford%20dorm&f=false).\n"
   ]
  },
  {
   "cell_type": "markdown",
   "metadata": {},
   "source": [
    "Those are all factors that can't be accounted for in tuition data alone; further study would require gathering tuition data from all of Stanford's peers. But it's a nice start to have Stanford's numbers in easily scrapable form. "
   ]
  },
  {
   "cell_type": "code",
   "execution_count": null,
   "metadata": {
    "collapsed": true
   },
   "outputs": [],
   "source": []
  }
 ],
 "metadata": {
  "kernelspec": {
   "display_name": "Python 3",
   "language": "python",
   "name": "python3"
  },
  "language_info": {
   "codemirror_mode": {
    "name": "ipython",
    "version": 3
   },
   "file_extension": ".py",
   "mimetype": "text/x-python",
   "name": "python",
   "nbconvert_exporter": "python",
   "pygments_lexer": "ipython3",
   "version": "3.5.0"
  }
 },
 "nbformat": 4,
 "nbformat_minor": 0
}
